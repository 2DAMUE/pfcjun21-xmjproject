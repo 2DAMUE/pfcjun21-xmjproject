{
 "metadata": {
  "language_info": {
   "codemirror_mode": {
    "name": "ipython",
    "version": 3
   },
   "file_extension": ".py",
   "mimetype": "text/x-python",
   "name": "python",
   "nbconvert_exporter": "python",
   "pygments_lexer": "ipython3",
   "version": "3.8.5-final"
  },
  "orig_nbformat": 2,
  "kernelspec": {
   "name": "python38564bitec82eca6510f4434bf9de63af1297f30",
   "display_name": "Python 3.8.5 64-bit"
  },
  "metadata": {
   "interpreter": {
    "hash": "31f2aee4e71d21fbe5cf8b01ff0e069b9275f58929596ceb00d14d90e3e16cd6"
   }
  }
 },
 "nbformat": 4,
 "nbformat_minor": 2,
 "cells": [
  {
   "cell_type": "code",
   "execution_count": 1,
   "metadata": {},
   "outputs": [],
   "source": [
    "import urllib\n",
    "from bs4 import BeautifulSoup\n",
    "import zipfile\n",
    "import os\n",
    "from random import randint\n",
    "from selenium import webdriver\n",
    "from selenium.webdriver.common.keys import Keys\n",
    "from selenium.webdriver.support.ui import WebDriverWait       \n",
    "from selenium.webdriver.common.by import By       \n",
    "from selenium.webdriver.support import expected_conditions as EC\n",
    "import time"
   ]
  },
  {
   "cell_type": "code",
   "execution_count": null,
   "metadata": {},
   "outputs": [],
   "source": [
    "\n",
    "url = 'https://www.epicgames.com/store/es-ES/'\n",
    "try:\n",
    "    chromeOptions = webdriver.ChromeOptions()\n",
    "    prefs = {\"download.default_directory\" : os.getcwd()+\"/Resultados Selenium\"}\n",
    "    chromeOptions.add_experimental_option(\"prefs\",prefs)\n",
    "    driver = webdriver.Chrome(\"chromedriver\",options=chromeOptions)\n",
    "    driver.get(url)\n",
    "except e:\n",
    "    print(e)\n",
    "\n",
    "for i in range(0,4):\n",
    "    try:\n",
    "        #Esta orden hace que la pagina espera a que se carge el elemento a buscar\n",
    "        #Es decir espera a que carge la caja de juegos gratuitos\n",
    "        WebDriverWait(driver, 5).until(EC.presence_of_element_located((By.CSS_SELECTOR,'div                                               [class=\"css-shu77l\"')))\n",
    "        #esto espera un numero aleatorio de segundos para simular no ser una autamatizacion\n",
    "        time.sleep(randint(2,7))\n",
    "        #clase de la caja para seleccionarla, puede cambiar segun las actualizaciones\n",
    "        clase_caja_juegos = \"css-shu77l\"\n",
    "        #selecciona la caja a clikar y clica en ella\n",
    "        driver.find_elements_by_css_selector('div[class='+clase_caja_juegos+' ]')[i].click()\n",
    "        #cambia a la nueva ventana, y tiene el bloque try-except por que salta un error siempre, pero funciona\n",
    "        try:\n",
    "            driver.switch_to().window(driver.window_handles[1])\n",
    "        except:\n",
    "            print()\n",
    "        \n",
    "        #guardo en una string la url de la nueva ventana\n",
    "        actualurl = str(driver.current_url)\n",
    "\n",
    "    except:\n",
    "        print('error')\n",
    "    #vuelve a la ventana anterior\n",
    "    driver.back()\n",
    "    #obtengo nombre del juego de la url de la ventana\n",
    "    juego_gratis_actual_array = actualurl.split('/')\n",
    "    juego_gratis_actual = juego_gratis_actual_array[len(juego_gratis_actual_array)-1].replace('-',' ')\n",
    "    #imprimo los datos en cuestion\n",
    "    print('juego', i, ':' ,juego_gratis_actual)\n",
    "    pass\n",
    "\n",
    "#Cierro el navegador\n",
    "driver.quit()\n",
    "\n",
    "\n"
   ]
  },
  {
   "source": [
    "# Scraping epic pagina principal"
   ],
   "cell_type": "markdown",
   "metadata": {}
  },
  {
   "cell_type": "code",
   "execution_count": 2,
   "metadata": {},
   "outputs": [
    {
     "output_type": "stream",
     "name": "stdout",
     "text": [
      "Gratis ahora\nDeponia: The Complete Journey\nGratis ahora - 22 abr por 17:00\nGratis ahora - 22 abr por 17:00\nGratis ahora\nKen Follett's The Pillars of the Earth\nGratis ahora - 22 abr por 17:00\nGratis ahora - 22 abr por 17:00\nGratis ahora\nThe First Tree\nGratis ahora - 22 abr por 17:00\nGratis ahora - 22 abr por 17:00\nPróximamente\nAlien: Isolation\n22 abr - 29 abr gratis\n22 abr - 29 abr gratis\nPróximamente\nHand of Fate 2\n22 abr - 29 abr gratis\n22 abr - 29 abr gratis\nfin\n"
     ]
    }
   ],
   "source": [
    "\n",
    "url = 'https://www.epicgames.com/store/es-ES/'\n",
    "\n",
    "try:\n",
    "    chromeOptions = webdriver.ChromeOptions()\n",
    "    prefs = {\"download.default_directory\" : os.getcwd()+\"/Resultados Selenium\"}\n",
    "    chromeOptions.add_experimental_option(\"prefs\",prefs)\n",
    "    driver = webdriver.Chrome(\"chromedriver\",options=chromeOptions)\n",
    "    driver.get(url)\n",
    "except e:\n",
    "    print(e)\n",
    "\n",
    "WebDriverWait(driver, 5).until(EC.presence_of_element_located((By.CSS_SELECTOR,'div[class=\"css-shu77l\"')))\n",
    "html = driver.find_element_by_xpath(\"//body\").get_attribute('outerHTML')\n",
    "soup = BeautifulSoup(html)\n",
    "driver.quit()\n",
    "\n",
    "divs = soup.find_all(\"div\", class_=\"css-shu77l\")\n",
    "\n",
    "for div in divs:\n",
    "    spans = div.find_all('span')\n",
    "    for span in spans:\n",
    "        print(span.text)\n",
    "\n",
    "print('fin')"
   ]
  },
  {
   "source": [
    "# Humble Bundle, juegos y precios por bundle"
   ],
   "cell_type": "markdown",
   "metadata": {}
  },
  {
   "cell_type": "code",
   "execution_count": 10,
   "metadata": {},
   "outputs": [
    {
     "output_type": "stream",
     "name": "stdout",
     "text": [
      "\n\n\n\n\nPay\n€1\nto\nunlock!\n\n\n\n\nDetached\n\n\n\n\n\nPay\nmore\nthan\nthe\naverage\nof\n€12.46\nto\nalso\nunlock!\n\n\n\n\nStar Trek™: Bridge Crew\nSurgeon Simulator: Experience Reality\nSwords of Gurrah\nEspire 1: VR Operative\n\n\n\n\n\nPay\n€12.59\nor\nmore\nto\nalso\nunlock!\n\n\n\n\nJob Simulator\nSairento VR\nBorderlands 2 VR\n"
     ]
    }
   ],
   "source": [
    "\n",
    "url = 'https://www.humblebundle.com/games/spring-into-vr-bundle?hmb_source=&hmb_medium=product_tile&hmb_campaign=mosaic_section_1_layout_index_1_layout_type_threes_tile_index_1_c_springintovrbundle_bundle'\n",
    "\n",
    "html = urllib.request.urlopen(url)\n",
    "soup = BeautifulSoup(html)\n",
    "\n",
    "divs = soup.find_all('div', class_= 'main-content-row dd-game-row js-nav-row')\n",
    "\n",
    "def sacarPrecio(linea):\n",
    "    precio = \"\"\n",
    "    palabras = linea.split(' ')\n",
    "    for palabra in palabras:\n",
    "        print(palabra)\n",
    "        '''\n",
    "        if(palabra[1] == '€'):\n",
    "            precio = palabra\n",
    "            break\n",
    "        '''\n",
    "    \n",
    "    return precio\n",
    "\n",
    "for div in divs:\n",
    "    minPrice = div.find('h2')\n",
    "    print(sacarPrecio(minPrice.text))\n",
    "    spans = div.find_all('span', class_='front-page-art-image-text')\n",
    "    for span in spans:\n",
    "        print(span.text)\n",
    "\n"
   ]
  },
  {
   "source": [
    "# Humble, Links de paquetes de juegos"
   ],
   "cell_type": "markdown",
   "metadata": {}
  },
  {
   "cell_type": "code",
   "execution_count": 7,
   "metadata": {},
   "outputs": [
    {
     "output_type": "stream",
     "name": "stdout",
     "text": [
      "The Ultimate Python Bookshelf by Packt https://www.humblebundle.com/books/ultimate-python-bookshelf-packt-books?hmb_source=&hmb_medium=product_tile&hmb_campaign=mosaic_section_1_layout_index_1_layout_type_threes_tile_index_1_c_ultimatepythonbookshelfpackt_bookbundle\n\n\n\n\nSpring 2021 Anime Season https://www.humblebundle.com/books/spring-2021-anime-season-books?hmb_source=&hmb_medium=product_tile&hmb_campaign=mosaic_section_1_layout_index_1_layout_type_threes_tile_index_2_c_spring2021animeseason_bookbundle\n\n\n\n\nNew and Classic D&D by IDW Publishing https://www.humblebundle.com/books/new-and-classic-dnd-idw-books?hmb_source=&hmb_medium=product_tile&hmb_campaign=mosaic_section_1_layout_index_1_layout_type_threes_tile_index_3_c_newandclassicdnd_bookbundle\n\n\n\n\nMindfulness & Meditation by Quarto https://www.humblebundle.com/books/mindfulness-and-meditation-quarto-books?hmb_source=&hmb_medium=product_tile&hmb_campaign=mosaic_section_1_layout_index_2_layout_type_threes_tile_index_1_c_mindfulnessandmeditationbyquarto_bookbundle\n\n\n\n\nMachine Learning Zero to Hero by Manning Publications https://www.humblebundle.com/books/machine-learning-zero-to-hero-manning-publications-books?hmb_source=&hmb_medium=product_tile&hmb_campaign=mosaic_section_1_layout_index_2_layout_type_threes_tile_index_2_c_machinelearningzerotoheromanningpublications_bookbundle\n\n\n\n\nGame Dev, Design & Graphics by Mercury https://www.humblebundle.com/books/game-dev-design-graphics-mercury-books?hmb_source=&hmb_medium=product_tile&hmb_campaign=mosaic_section_1_layout_index_2_layout_type_threes_tile_index_3_c_gamedevdesigngraphicsmercury_bookbundle\n\n\n\n\nThe Best Year of BOOM! Studios https://www.humblebundle.com/books/best-year-of-boom-studios-books?hmb_source=&hmb_medium=product_tile&hmb_campaign=mosaic_section_1_layout_index_3_layout_type_threes_tile_index_1_c_bestyearofboomstudios_bookbundle\n\n\n\n\n"
     ]
    }
   ],
   "source": [
    "url_base = 'https://www.humblebundle.com'\n",
    "url = 'https://www.humblebundle.com/bundles?hmb_source=navbar'\n",
    "\n",
    "try:\n",
    "    chromeOptions = webdriver.ChromeOptions()\n",
    "    prefs = {\"download.default_directory\" : os.getcwd()+\"/Resultados Selenium\"}\n",
    "    chromeOptions.add_experimental_option(\"prefs\",prefs)\n",
    "    driver = webdriver.Chrome(\"chromedriver\",options=chromeOptions)\n",
    "    driver.get(url)\n",
    "except e:\n",
    "    print(e)\n",
    "\n",
    "WebDriverWait(driver, 5).until(EC.presence_of_element_located((By.CSS_SELECTOR,'div[class=\"mosaic-view\"')))\n",
    "html = driver.find_element_by_xpath(\"//body\").get_attribute('outerHTML')\n",
    "soup = BeautifulSoup(html)\n",
    "driver.quit()\n",
    "\n",
    "sections = soup.find_all('section', class_='landing-page-mosaic')\n",
    "\n",
    "aes = sections[0].find_all('a')\n",
    "nombres = sections[0].find_all('span', class_='name')\n",
    "for i in range(0, len(aes)):\n",
    "    url_bundle = url_base + aes[i].attrs['href']\n",
    "    nombre = nombres[i].text\n",
    "    print(nombre,':', url_bundle)\n",
    "    print('\\n\\n\\n')\n"
   ]
  },
  {
   "cell_type": "code",
   "execution_count": null,
   "metadata": {},
   "outputs": [],
   "source": []
  }
 ]
}
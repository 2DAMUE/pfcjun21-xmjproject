{
 "metadata": {
  "language_info": {
   "codemirror_mode": {
    "name": "ipython",
    "version": 3
   },
   "file_extension": ".py",
   "mimetype": "text/x-python",
   "name": "python",
   "nbconvert_exporter": "python",
   "pygments_lexer": "ipython3",
   "version": "3.8.5-final"
  },
  "orig_nbformat": 2,
  "kernelspec": {
   "name": "python38564bitec82eca6510f4434bf9de63af1297f30",
   "display_name": "Python 3.8.5 64-bit"
  },
  "metadata": {
   "interpreter": {
    "hash": "31f2aee4e71d21fbe5cf8b01ff0e069b9275f58929596ceb00d14d90e3e16cd6"
   }
  }
 },
 "nbformat": 4,
 "nbformat_minor": 2,
 "cells": [
  {
   "cell_type": "code",
   "execution_count": 31,
   "metadata": {},
   "outputs": [
    {
     "output_type": "stream",
     "name": "stdout",
     "text": [
      "\n",
      "juego 0 : 3 out of 10 season 2\n",
      "\n",
      "juego 1 : deponia the complete journey\n",
      "\n",
      "juego 2 : ken follets the pillars of the earth\n",
      "\n",
      "juego 3 : the first tree\n"
     ]
    }
   ],
   "source": [
    "import urllib\n",
    "from bs4 import BeautifulSoup\n",
    "import pandas as pd\n",
    "import zipfile\n",
    "import os\n",
    "from random import randint\n",
    "from selenium import webdriver\n",
    "from selenium.webdriver.common.keys import Keys\n",
    "from selenium.webdriver.support.ui import WebDriverWait       \n",
    "from selenium.webdriver.common.by import By       \n",
    "from selenium.webdriver.support import expected_conditions as EC\n",
    "import time\n",
    "\n",
    "\n",
    "url = 'https://www.epicgames.com/store/es-ES/'\n",
    "#html = urllib.request.urlopen(url)\n",
    "#soup = BeautifulSoup(html)\n",
    "try:\n",
    "    chromeOptions = webdriver.ChromeOptions()\n",
    "    prefs = {\"download.default_directory\" : os.getcwd()+\"/Resultados Selenium\"}\n",
    "    chromeOptions.add_experimental_option(\"prefs\",prefs)\n",
    "    driver = webdriver.Chrome(\"chromedriver\",options=chromeOptions)\n",
    "    driver.get(url)\n",
    "except e:\n",
    "    print(e)\n",
    "\n",
    "for i in range(0,4):\n",
    "    try:\n",
    "        #Esta orden hace que la pagina espera a que se carge el elemento a buscar\n",
    "        #Es decir espera a que carge la caja de juegos gratuitos\n",
    "        WebDriverWait(driver, 5).until(EC.presence_of_element_located((By.CSS_SELECTOR,'div                                               [class=\"css-shu77l\"')))\n",
    "        #esto espera un numero aleatorio de segundos para simular no ser una autamatizacion\n",
    "        time.sleep(randint(2,7))\n",
    "        #clase de la caja para seleccionarla, puede cambiar segun las actualizaciones\n",
    "        clase_caja_juegos = \"css-shu77l\"\n",
    "        #selecciona la caja a clikar y clica en ella\n",
    "        driver.find_elements_by_css_selector('div[class='+clase_caja_juegos+' ]')[i].click()\n",
    "        #cambia a la nueva ventana, y tiene el bloque try-except por que salta un error siempre, pero funciona\n",
    "        try:\n",
    "            driver.switch_to().window(driver.window_handles[1])\n",
    "        except:\n",
    "            print()\n",
    "        \n",
    "        #guardo en una string la url de la nueva ventana\n",
    "        actualurl = str(driver.current_url)\n",
    "\n",
    "    except:\n",
    "        print('error')\n",
    "    #vuelve a la ventana anterior\n",
    "    driver.back()\n",
    "    #obtengo nombre del juego de la url de la ventana\n",
    "    juego_gratis_actual_array = actualurl.split('/')\n",
    "    juego_gratis_actual = juego_gratis_actual_array[len(juego_gratis_actual_array)-1].replace('-',' ')\n",
    "    #imprimo los datos en cuestion\n",
    "    print('juego', i, ':' ,juego_gratis_actual)\n",
    "    pass\n",
    "\n",
    "#Cierro el navegador\n",
    "driver.quit()\n",
    "\n",
    "\n",
    "\n",
    "\n",
    "\n"
   ]
  },
  {
   "cell_type": "code",
   "execution_count": null,
   "metadata": {},
   "outputs": [],
   "source": []
  }
 ]
}